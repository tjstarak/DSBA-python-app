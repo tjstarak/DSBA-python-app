{
 "cells": [
  {
   "cell_type": "code",
   "execution_count": 2,
   "metadata": {},
   "outputs": [],
   "source": [
    "import pandas as pd\n",
    "import numpy as np"
   ]
  },
  {
   "cell_type": "code",
   "execution_count": 4,
   "metadata": {},
   "outputs": [],
   "source": [
    "def get_clean_values(offers):\n",
    "    \n",
    "    clean_values = pd.DataFrame(np.nan,index=range(0,offers.shape[0]),columns=[\"Currency\", \"Price\", \"Surface\", \"Floor\", \"Construction year\", \"Monthly charges\"])\n",
    "    \n",
    "    # Extract Currency\n",
    "    is_pln = offers[\"Price\"].str.match(pat=\".*zł\",case=False,na=False)\n",
    "    is_eur = offers[\"Price\"].str.match(pat=\".*eur\",case=False,na=False)\n",
    "    is_neither = ~(is_pln) & ~(is_eur)\n",
    "\n",
    "    clean_values.loc[is_pln, \"Currency\"] = \"PLN\"\n",
    "    clean_values.loc[is_eur, \"Currency\"] = \"EUR\"\n",
    "    clean_values.loc[is_neither, \"Currency\"] = np.nan\n",
    "\n",
    "    # Extract price, ignore decimal\n",
    "    clean_values[\"Price\"] = pd.to_numeric(offers[\"Price\"].astype(str).str.replace(\" \",\"\").str.extract(pat=\"(\\d+)\",expand=False))\n",
    "\n",
    "    # Extract surface, including decimal\n",
    "    clean_values[\"Surface\"] = pd.to_numeric(offers[\"Surface\"].astype(str).str.replace(\" \",\"\").str.replace(\",\",\".\").str.extract(pat=\"(\\d+\\.?\\d*)\",expand=False))\n",
    "\n",
    "    # Extract floor, floors >10 groupped together with 10\n",
    "    clean_values[\"Floor\"] = pd.to_numeric(offers[\"Floor\"].astype(str).str.replace(\"parter\",\"0\",case=False).str.replace(\"suterena\",\"-1\",case=False).str.extract(pat=\"(-?\\d+)\",expand=False))\n",
    "\n",
    "    clean_values[\"Construction year\"] = pd.to_numeric(offers[\"Construction year\"].astype(str).str.extract(pat=\"(\\d+)\",expand=False))\n",
    "\n",
    "    # Extract monthly charges, assume all values are in PLN, ignore decimal\n",
    "    clean_values[\"Monthly charges\"] = pd.to_numeric(offers[\"Monthly charges\"].astype(str).str.replace(\" \",\"\").str.extract(pat=\"(\\d+)\",expand=False))\n",
    "\n",
    "    return clean_values\n"
   ]
  },
  {
   "cell_type": "code",
   "execution_count": 5,
   "metadata": {},
   "outputs": [],
   "source": [
    "# Load data - excel or SQL database\n",
    "offers_excel = pd.read_excel(\"C:/Users/tomasz.starakiewicz/Documents/GitHub/DSBA-python-app/database/scraped_data_rental.xlsx\")"
   ]
  },
  {
   "cell_type": "code",
   "execution_count": 15,
   "metadata": {},
   "outputs": [],
   "source": [
    "# Clean numeric variables and add back to the dataset\n",
    "\n",
    "offers_clean = get_clean_values(offers_excel)\n",
    "\n",
    "offers = offers_excel.merge(right=offers_clean,left_index=True,right_index=True,suffixes=(None,\"_clean\"))"
   ]
  },
  {
   "cell_type": "code",
   "execution_count": 14,
   "metadata": {},
   "outputs": [],
   "source": [
    "# Feature engineering\n",
    "\n",
    "offers[\"Price per sqm\"] = offers[\"Price_clean\"] / offers[\"Surface_clean\"]"
   ]
  },
  {
   "cell_type": "code",
   "execution_count": null,
   "metadata": {},
   "outputs": [],
   "source": [
    "# Visualize data"
   ]
  }
 ],
 "metadata": {
  "interpreter": {
   "hash": "ab8630a756ea657b3be1d2b0c08f8826c5410e63c3763a17069abb04fb316cdf"
  },
  "kernelspec": {
   "display_name": "Python 3.9.7 64-bit (conda)",
   "language": "python",
   "name": "python3"
  },
  "language_info": {
   "codemirror_mode": {
    "name": "ipython",
    "version": 3
   },
   "file_extension": ".py",
   "mimetype": "text/x-python",
   "name": "python",
   "nbconvert_exporter": "python",
   "pygments_lexer": "ipython3",
   "version": "3.9.7"
  },
  "orig_nbformat": 4
 },
 "nbformat": 4,
 "nbformat_minor": 2
}
